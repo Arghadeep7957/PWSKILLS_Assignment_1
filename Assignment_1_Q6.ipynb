{
 "cells": [
  {
   "cell_type": "code",
   "execution_count": 53,
   "id": "331bfeaf-b6d6-46ba-8da7-97d5ce358934",
   "metadata": {},
   "outputs": [
    {
     "name": "stdin",
     "output_type": "stream",
     "text": [
      " 25\n"
     ]
    },
    {
     "name": "stdout",
     "output_type": "stream",
     "text": [
      "25\n",
      "25 is not divisble by 3\n",
      "26 is not divisble by 3\n",
      "27 is divisible by 3\n",
      "28 is not divisble by 3\n",
      "29 is not divisble by 3\n",
      "30 is divisible by 3\n",
      "31 is not divisble by 3\n",
      "32 is not divisble by 3\n",
      "33 is divisible by 3\n",
      "34 is not divisble by 3\n",
      "35 is not divisble by 3\n",
      "36 is divisible by 3\n",
      "37 is not divisble by 3\n",
      "38 is not divisble by 3\n",
      "39 is divisible by 3\n",
      "40 is not divisble by 3\n",
      "41 is not divisble by 3\n",
      "42 is divisible by 3\n",
      "43 is not divisble by 3\n",
      "44 is not divisble by 3\n",
      "45 is divisible by 3\n",
      "46 is not divisble by 3\n",
      "47 is not divisble by 3\n",
      "48 is divisible by 3\n",
      "49 is not divisble by 3\n"
     ]
    }
   ],
   "source": [
    "a=int(input())\n",
    "l=list(range(a,a+25))\n",
    "print(len(l))\n",
    "for i in l:\n",
    "    a=i%3\n",
    "    if a==0:\n",
    "        print(i,\"is divisible by 3\")\n",
    "    else:\n",
    "        print(i,\"is not divisble by 3\")"
   ]
  }
 ],
 "metadata": {
  "kernelspec": {
   "display_name": "Python 3 (ipykernel)",
   "language": "python",
   "name": "python3"
  },
  "language_info": {
   "codemirror_mode": {
    "name": "ipython",
    "version": 3
   },
   "file_extension": ".py",
   "mimetype": "text/x-python",
   "name": "python",
   "nbconvert_exporter": "python",
   "pygments_lexer": "ipython3",
   "version": "3.10.8"
  }
 },
 "nbformat": 4,
 "nbformat_minor": 5
}
